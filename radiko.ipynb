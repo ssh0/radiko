{
 "metadata": {
  "kernelspec": {
   "codemirror_mode": {
    "name": "ipython",
    "version": 2
   },
   "display_name": "IPython (Python 2)",
   "language": "python",
   "name": "python2",
   "pygments_lexer": "ipython2"
  },
  "name": "",
  "signature": "sha256:6b65a7332c1f6e0aa09b5815f34814f29dff1cf136117e7b145c914b9df4734d"
 },
 "nbformat": 3,
 "nbformat_minor": 0,
 "worksheets": [
  {
   "cells": [
    {
     "cell_type": "heading",
     "level": 1,
     "metadata": {},
     "source": [
      "Radiko Streaming Application"
     ]
    },
    {
     "cell_type": "code",
     "collapsed": true,
     "input": [
      "playerurl = \"http://radiko.jp/player/swf/player_3.0.0.01.swf\"\n",
      "playerfile = \"tmp.swf\"\n",
      "keyfile = \"tmp.png\""
     ],
     "language": "python",
     "metadata": {},
     "outputs": [],
     "prompt_number": 1
    },
    {
     "cell_type": "code",
     "collapsed": false,
     "input": [
      "import urllib\n",
      "import urllib2\n",
      "import os\n",
      "import sys\n",
      "import base64\n",
      "import subprocess"
     ],
     "language": "python",
     "metadata": {},
     "outputs": [],
     "prompt_number": 2
    },
    {
     "cell_type": "markdown",
     "metadata": {},
     "source": [
      "get player"
     ]
    },
    {
     "cell_type": "code",
     "collapsed": true,
     "input": [
      "body = urllib2.urlopen(playerurl).read()\n",
      "\n",
      "if not os.path.exists(playerfile):\n",
      "    try:\n",
      "        with open(playerfile, \"w\") as f:\n",
      "            f.write(body)\n",
      "    except URLError, e:\n",
      "        print e\n",
      "        exit()"
     ],
     "language": "python",
     "metadata": {},
     "outputs": [],
     "prompt_number": 3
    },
    {
     "cell_type": "markdown",
     "metadata": {},
     "source": [
      "get keydata (need swftool)"
     ]
    },
    {
     "cell_type": "code",
     "collapsed": false,
     "input": [
      "if not os.path.exists(keyfile):\n",
      "    cmd = \"swfextract -b 14 %s -o %s\" % (playerfile, keyfile)\n",
      "    subprocess.call(cmd.strip().split(\" \"))"
     ],
     "language": "python",
     "metadata": {},
     "outputs": [],
     "prompt_number": 4
    },
    {
     "cell_type": "markdown",
     "metadata": {},
     "source": [
      "access auth1_fms"
     ]
    },
    {
     "cell_type": "code",
     "collapsed": true,
     "input": [
      "auth_response = {}\n",
      "url = \"https://radiko.jp/v2/api/auth1_fms\"\n",
      "headers = {\n",
      "    \"pragma\":\"no-cache\",\n",
      "    \"X-Radiko-App\":\"pc_1\",\n",
      "    \"X-Radiko-App-Version\":\"2.0.1\",\n",
      "    \"X-Radiko-User\":\"test-stream\",\n",
      "    \"X-Radiko-Device\":\"pc\"\n",
      "}\n",
      "values = {\"\\r\\n:\": \"\"}\n",
      "data = urllib.urlencode(values)"
     ],
     "language": "python",
     "metadata": {},
     "outputs": [],
     "prompt_number": 5
    },
    {
     "cell_type": "code",
     "collapsed": false,
     "input": [
      "try:\n",
      "    req = urllib2.Request(url, \"\\r\\n\", headers)\n",
      "    res = urllib2.urlopen(req)\n",
      "    auth_response[\"body\"] = res.read()\n",
      "    auth_response[\"headers\"] = dict(res.info())\n",
      "except:\n",
      "    print \"failed auth1 process\""
     ],
     "language": "python",
     "metadata": {},
     "outputs": [],
     "prompt_number": 6
    },
    {
     "cell_type": "code",
     "collapsed": false,
     "input": [
      "auth_response"
     ],
     "language": "python",
     "metadata": {},
     "outputs": [
      {
       "metadata": {},
       "output_type": "pyout",
       "prompt_number": 7,
       "text": [
        "{'body': 'X-Radiko-AppType=pc\\r\\nX-Radiko-AuthToken=2bD3QG2RDavxwd4XZ0pVAQ\\r\\nX-Radiko-AuthWait=0\\r\\nX-Radiko-Delay=0\\r\\nX-Radiko-KeyLength=16\\r\\nX-Radiko-KeyOffset=89370\\r\\n\\r\\nplease send a part of key',\n",
        " 'headers': {'connection': 'close',\n",
        "  'content-type': 'text/plain',\n",
        "  'date': 'Thu, 13 Nov 2014 04:48:44 GMT',\n",
        "  'server': 'nginx',\n",
        "  'transfer-encoding': 'chunked',\n",
        "  'x-radiko-apptype': 'pc',\n",
        "  'x-radiko-authtoken': '2bD3QG2RDavxwd4XZ0pVAQ',\n",
        "  'x-radiko-authwait': '0',\n",
        "  'x-radiko-delay': '0',\n",
        "  'x-radiko-keylength': '16',\n",
        "  'x-radiko-keyoffset': '89370'}}"
       ]
      }
     ],
     "prompt_number": 7
    },
    {
     "cell_type": "markdown",
     "metadata": {},
     "source": [
      "get partial key"
     ]
    },
    {
     "cell_type": "code",
     "collapsed": false,
     "input": [
      "authtoken  = auth_response[\"headers\"][\"x-radiko-authtoken\"]\n",
      "offset = auth_response[\"headers\"][\"x-radiko-keyoffset\"]\n",
      "length = auth_response[\"headers\"][\"x-radiko-keylength\"]"
     ],
     "language": "python",
     "metadata": {},
     "outputs": [],
     "prompt_number": 8
    },
    {
     "cell_type": "code",
     "collapsed": true,
     "input": [
      "offset = int(offset)\n",
      "length = int(length)"
     ],
     "language": "python",
     "metadata": {},
     "outputs": [],
     "prompt_number": 9
    },
    {
     "cell_type": "code",
     "collapsed": true,
     "input": [
      "with open(keyfile, \"rb+\") as f:\n",
      "    f.seek(offset)\n",
      "    data = f.read(length)\n",
      "    partialkey = base64.b64encode(data)"
     ],
     "language": "python",
     "metadata": {},
     "outputs": [],
     "prompt_number": 10
    },
    {
     "cell_type": "code",
     "collapsed": false,
     "input": [
      "print \"authtoken: %s \\noffset: %s length: %s \\npartialkey: %s\" % (authtoken,offset,length,partialkey)"
     ],
     "language": "python",
     "metadata": {},
     "outputs": [
      {
       "output_type": "stream",
       "stream": "stdout",
       "text": [
        "authtoken: 2bD3QG2RDavxwd4XZ0pVAQ \n",
        "offset: 89370 length: 16 \n",
        "partialkey: uPOf8aVwEOJAQFxlF/hB5w==\n"
       ]
      }
     ],
     "prompt_number": 11
    },
    {
     "cell_type": "markdown",
     "metadata": {},
     "source": [
      "access auth2_fms"
     ]
    },
    {
     "cell_type": "code",
     "collapsed": true,
     "input": [
      "auth_success_responce = {}\n",
      "url = \"https://radiko.jp/v2/api/auth2_fms\"\n",
      "headers = {\n",
      "    \"pragma\":\"no-cache\",\n",
      "    \"X-Radiko-App\":\"pc_1\",\n",
      "    \"X-Radiko-App-Version\":\"2.0.1\",\n",
      "    \"X-Radiko-User\":\"test-stream\",\n",
      "    \"X-Radiko-Device\":\"pc\",\n",
      "    \"X-Radiko-Authtoken\":authtoken,\n",
      "    \"X-Radiko-Partialkey\":partialkey , \n",
      "}"
     ],
     "language": "python",
     "metadata": {},
     "outputs": [],
     "prompt_number": 12
    },
    {
     "cell_type": "code",
     "collapsed": true,
     "input": [
      "try:\n",
      "    req = urllib2.Request(url, \"\\r\\n\", headers)\n",
      "    res = urllib2.urlopen(req)\n",
      "    auth_success_responce[\"body\"] = res.read()\n",
      "    auth_success_responce[\"headers\"] = dict(res.info())\n",
      "except URLError, e:\n",
      "    print e"
     ],
     "language": "python",
     "metadata": {},
     "outputs": [],
     "prompt_number": 13
    },
    {
     "cell_type": "code",
     "collapsed": false,
     "input": [
      "auth_success_responce"
     ],
     "language": "python",
     "metadata": {},
     "outputs": [
      {
       "metadata": {},
       "output_type": "pyout",
       "prompt_number": 14,
       "text": [
        "{'body': '\\r\\n\\r\\nJP13,\\xe6\\x9d\\xb1\\xe4\\xba\\xac\\xe9\\x83\\xbd,tokyo Japan\\r\\n',\n",
        " 'headers': {'connection': 'close',\n",
        "  'content-type': 'text/plain',\n",
        "  'date': 'Thu, 13 Nov 2014 04:49:19 GMT',\n",
        "  'server': 'nginx',\n",
        "  'transfer-encoding': 'chunked'}}"
       ]
      }
     ],
     "prompt_number": 14
    },
    {
     "cell_type": "code",
     "collapsed": false,
     "input": [
      "area = auth_success_responce[\"body\"].strip().split(\",\")\n",
      "areaid = area[0]\n",
      "print area, areaid"
     ],
     "language": "python",
     "metadata": {},
     "outputs": [
      {
       "output_type": "stream",
       "stream": "stdout",
       "text": [
        "['JP13', '\\xe6\\x9d\\xb1\\xe4\\xba\\xac\\xe9\\x83\\xbd', 'tokyo Japan'] JP13\n"
       ]
      }
     ],
     "prompt_number": 15
    },
    {
     "cell_type": "markdown",
     "metadata": {},
     "source": [
      "list of channels"
     ]
    },
    {
     "cell_type": "code",
     "collapsed": true,
     "input": [
      "channels = subprocess.check_output(\"curl -s http://radiko.jp/v2/api/program/today?area_id=%s \" % areaid+\n",
      "\"| xmllint --format --xpath //station/@id - \" + \" | ruby -ne 'puts $_.split ' \" , shell=True)"
     ],
     "language": "python",
     "metadata": {},
     "outputs": [],
     "prompt_number": 16
    },
    {
     "cell_type": "code",
     "collapsed": false,
     "input": [
      "print channels"
     ],
     "language": "python",
     "metadata": {},
     "outputs": [
      {
       "output_type": "stream",
       "stream": "stdout",
       "text": [
        "id=\"TBS\"\n",
        "id=\"QRR\"\n",
        "id=\"LFR\"\n",
        "id=\"RN1\"\n",
        "id=\"RN2\"\n",
        "id=\"INT\"\n",
        "id=\"FMT\"\n",
        "id=\"FMJ\"\n",
        "id=\"JORF\"\n",
        "id=\"BAYFM78\"\n",
        "id=\"NACK5\"\n",
        "id=\"YFM\"\n",
        "id=\"HOUSOU-DAIGAKU\"\n",
        "\n"
       ]
      }
     ],
     "prompt_number": 17
    },
    {
     "cell_type": "code",
     "collapsed": true,
     "input": [
      "channel = \"FMT\"\n",
      "#if not channel in channels:\n",
      "#    print \"station %s is not available.\" % channel\n",
      "#    exit(1)"
     ],
     "language": "python",
     "metadata": {},
     "outputs": [],
     "prompt_number": 18
    },
    {
     "cell_type": "markdown",
     "metadata": {},
     "source": [
      "get stream url"
     ]
    },
    {
     "cell_type": "code",
     "collapsed": true,
     "input": [
      "tmp_xml = \"%s.xml\" % channel\n",
      "if os.path.exists(tmp_xml):\n",
      "    os.remove(tmp_xml)"
     ],
     "language": "python",
     "metadata": {},
     "outputs": [],
     "prompt_number": 19
    },
    {
     "cell_type": "code",
     "collapsed": true,
     "input": [
      "channel_url = \"http://radiko.jp/v2/station/stream/%s.xml\" % channel\n",
      "try:\n",
      "    body = urllib2.urlopen(channel_url).read()\n",
      "except:\n",
      "    print \"error in to get %s\" % tmp_xml\n",
      "with open(tmp_xml, 'w') as f:\n",
      "    f.write(body)"
     ],
     "language": "python",
     "metadata": {},
     "outputs": [],
     "prompt_number": 20
    },
    {
     "cell_type": "code",
     "collapsed": false,
     "input": [
      "cmd = \"xmllint %s.xml --xpath /url/item[1]/text() \" % channel\n",
      "stream_url = subprocess.check_output(cmd.strip().split(\" \"))\n",
      "print stream_url"
     ],
     "language": "python",
     "metadata": {},
     "outputs": [
      {
       "output_type": "stream",
       "stream": "stdout",
       "text": [
        "rtmpe://f-radiko.smartstream.ne.jp/FMT/_definst_/simul-stream.stream\n"
       ]
      }
     ],
     "prompt_number": 21
    },
    {
     "cell_type": "code",
     "collapsed": false,
     "input": [
      "cmd = \"echo '%s' | perl -pe 's!^(.*)://(.*?)/(.*)/(.*?)$/!$1://$2 $3 $4!'\" % stream_url\n",
      "print cmd"
     ],
     "language": "python",
     "metadata": {},
     "outputs": [
      {
       "output_type": "stream",
       "stream": "stdout",
       "text": [
        "echo 'rtmpe://f-radiko.smartstream.ne.jp/FMT/_definst_/simul-stream.stream' | perl -pe 's!^(.*)://(.*?)/(.*)/(.*?)$/!$1://$2 $3 $4!'\n"
       ]
      }
     ],
     "prompt_number": 22
    },
    {
     "cell_type": "code",
     "collapsed": false,
     "input": [
      "ret = subprocess.check_output(cmd, shell=True)\n",
      "ret"
     ],
     "language": "python",
     "metadata": {},
     "outputs": [
      {
       "metadata": {},
       "output_type": "pyout",
       "prompt_number": 23,
       "text": [
        "'rtmpe://f-radiko.smartstream.ne.jp FMT/_definst_ simul-stream.stream'"
       ]
      }
     ],
     "prompt_number": 23
    },
    {
     "cell_type": "code",
     "collapsed": false,
     "input": [
      "url_parts = ret.split(\" \")\n",
      "url_parts"
     ],
     "language": "python",
     "metadata": {},
     "outputs": [
      {
       "metadata": {},
       "output_type": "pyout",
       "prompt_number": 24,
       "text": [
        "['rtmpe://f-radiko.smartstream.ne.jp', 'FMT/_definst_', 'simul-stream.stream']"
       ]
      }
     ],
     "prompt_number": 24
    },
    {
     "cell_type": "code",
     "collapsed": true,
     "input": [
      "os.remove(tmp_xml)"
     ],
     "language": "python",
     "metadata": {},
     "outputs": [],
     "prompt_number": 25
    },
    {
     "cell_type": "code",
     "collapsed": false,
     "input": [
      "DURATION = 60 #1m\n",
      "options = (\n",
      "    url_parts[0],\n",
      "    url_parts[1],\n",
      "    url_parts[2],\n",
      "    playerurl,\n",
      "    authtoken,\n",
      "    DURATION\n",
      ")\n",
      "play_cmd = 'rtmpdump -v \\\n",
      "    -r %s \\\n",
      "    --app %s\\\n",
      "    --playpath %s \\\n",
      "    -W %s \\\n",
      "    -C S:\"\" -C S:\"\" -C S:\"\" -C S:%s \\\n",
      "    --live \\\n",
      "    --stop %s ' % options\n",
      "play_cmd"
     ],
     "language": "python",
     "metadata": {},
     "outputs": [
      {
       "metadata": {},
       "output_type": "pyout",
       "prompt_number": 26,
       "text": [
        "'rtmpdump -v     -r rtmpe://f-radiko.smartstream.ne.jp     --app FMT/_definst_    --playpath simul-stream.stream     -W http://radiko.jp/player/swf/player_3.0.0.01.swf     -C S:\"\" -C S:\"\" -C S:\"\" -C S:2bD3QG2RDavxwd4XZ0pVAQ     --live     --stop 60 '"
       ]
      }
     ],
     "prompt_number": 26
    },
    {
     "cell_type": "code",
     "collapsed": false,
     "input": [
      "p1 = subprocess.Popen(play_cmd.strip().split(\" \"), stdout=subprocess.PIPE)\n",
      "p2 = subprocess.Popen([\"mplayer\", \"-\"], stdin=p1.stdout)\n",
      "p1.stdout.close()\n",
      "output = p2.communicate()[0]"
     ],
     "language": "python",
     "metadata": {},
     "outputs": [
      {
       "ename": "KeyboardInterrupt",
       "evalue": "",
       "output_type": "pyerr",
       "traceback": [
        "\u001b[1;31m---------------------------------------------------------------------------\u001b[0m",
        "\u001b[1;31mKeyboardInterrupt\u001b[0m                         Traceback (most recent call last)",
        "\u001b[1;32m<ipython-input-27-01b3ce9a35db>\u001b[0m in \u001b[0;36m<module>\u001b[1;34m()\u001b[0m\n\u001b[0;32m      2\u001b[0m \u001b[0mp2\u001b[0m \u001b[1;33m=\u001b[0m \u001b[0msubprocess\u001b[0m\u001b[1;33m.\u001b[0m\u001b[0mPopen\u001b[0m\u001b[1;33m(\u001b[0m\u001b[1;33m[\u001b[0m\u001b[1;34m\"mplayer\"\u001b[0m\u001b[1;33m,\u001b[0m \u001b[1;34m\"-\"\u001b[0m\u001b[1;33m]\u001b[0m\u001b[1;33m,\u001b[0m \u001b[0mstdin\u001b[0m\u001b[1;33m=\u001b[0m\u001b[0mp1\u001b[0m\u001b[1;33m.\u001b[0m\u001b[0mstdout\u001b[0m\u001b[1;33m)\u001b[0m\u001b[1;33m\u001b[0m\u001b[0m\n\u001b[0;32m      3\u001b[0m \u001b[0mp1\u001b[0m\u001b[1;33m.\u001b[0m\u001b[0mstdout\u001b[0m\u001b[1;33m.\u001b[0m\u001b[0mclose\u001b[0m\u001b[1;33m(\u001b[0m\u001b[1;33m)\u001b[0m\u001b[1;33m\u001b[0m\u001b[0m\n\u001b[1;32m----> 4\u001b[1;33m \u001b[0moutput\u001b[0m \u001b[1;33m=\u001b[0m \u001b[0mp2\u001b[0m\u001b[1;33m.\u001b[0m\u001b[0mcommunicate\u001b[0m\u001b[1;33m(\u001b[0m\u001b[1;33m)\u001b[0m\u001b[1;33m[\u001b[0m\u001b[1;36m0\u001b[0m\u001b[1;33m]\u001b[0m\u001b[1;33m\u001b[0m\u001b[0m\n\u001b[0m",
        "\u001b[1;32m/usr/lib/python2.7/subprocess.pyc\u001b[0m in \u001b[0;36mcommunicate\u001b[1;34m(self, input)\u001b[0m\n\u001b[0;32m    794\u001b[0m                 \u001b[0mstderr\u001b[0m \u001b[1;33m=\u001b[0m \u001b[0m_eintr_retry_call\u001b[0m\u001b[1;33m(\u001b[0m\u001b[0mself\u001b[0m\u001b[1;33m.\u001b[0m\u001b[0mstderr\u001b[0m\u001b[1;33m.\u001b[0m\u001b[0mread\u001b[0m\u001b[1;33m)\u001b[0m\u001b[1;33m\u001b[0m\u001b[0m\n\u001b[0;32m    795\u001b[0m                 \u001b[0mself\u001b[0m\u001b[1;33m.\u001b[0m\u001b[0mstderr\u001b[0m\u001b[1;33m.\u001b[0m\u001b[0mclose\u001b[0m\u001b[1;33m(\u001b[0m\u001b[1;33m)\u001b[0m\u001b[1;33m\u001b[0m\u001b[0m\n\u001b[1;32m--> 796\u001b[1;33m             \u001b[0mself\u001b[0m\u001b[1;33m.\u001b[0m\u001b[0mwait\u001b[0m\u001b[1;33m(\u001b[0m\u001b[1;33m)\u001b[0m\u001b[1;33m\u001b[0m\u001b[0m\n\u001b[0m\u001b[0;32m    797\u001b[0m             \u001b[1;32mreturn\u001b[0m \u001b[1;33m(\u001b[0m\u001b[0mstdout\u001b[0m\u001b[1;33m,\u001b[0m \u001b[0mstderr\u001b[0m\u001b[1;33m)\u001b[0m\u001b[1;33m\u001b[0m\u001b[0m\n\u001b[0;32m    798\u001b[0m \u001b[1;33m\u001b[0m\u001b[0m\n",
        "\u001b[1;32m/usr/lib/python2.7/subprocess.pyc\u001b[0m in \u001b[0;36mwait\u001b[1;34m(self)\u001b[0m\n\u001b[0;32m   1374\u001b[0m             \u001b[1;32mwhile\u001b[0m \u001b[0mself\u001b[0m\u001b[1;33m.\u001b[0m\u001b[0mreturncode\u001b[0m \u001b[1;32mis\u001b[0m \u001b[0mNone\u001b[0m\u001b[1;33m:\u001b[0m\u001b[1;33m\u001b[0m\u001b[0m\n\u001b[0;32m   1375\u001b[0m                 \u001b[1;32mtry\u001b[0m\u001b[1;33m:\u001b[0m\u001b[1;33m\u001b[0m\u001b[0m\n\u001b[1;32m-> 1376\u001b[1;33m                     \u001b[0mpid\u001b[0m\u001b[1;33m,\u001b[0m \u001b[0msts\u001b[0m \u001b[1;33m=\u001b[0m \u001b[0m_eintr_retry_call\u001b[0m\u001b[1;33m(\u001b[0m\u001b[0mos\u001b[0m\u001b[1;33m.\u001b[0m\u001b[0mwaitpid\u001b[0m\u001b[1;33m,\u001b[0m \u001b[0mself\u001b[0m\u001b[1;33m.\u001b[0m\u001b[0mpid\u001b[0m\u001b[1;33m,\u001b[0m \u001b[1;36m0\u001b[0m\u001b[1;33m)\u001b[0m\u001b[1;33m\u001b[0m\u001b[0m\n\u001b[0m\u001b[0;32m   1377\u001b[0m                 \u001b[1;32mexcept\u001b[0m \u001b[0mOSError\u001b[0m \u001b[1;32mas\u001b[0m \u001b[0me\u001b[0m\u001b[1;33m:\u001b[0m\u001b[1;33m\u001b[0m\u001b[0m\n\u001b[0;32m   1378\u001b[0m                     \u001b[1;32mif\u001b[0m \u001b[0me\u001b[0m\u001b[1;33m.\u001b[0m\u001b[0merrno\u001b[0m \u001b[1;33m!=\u001b[0m \u001b[0merrno\u001b[0m\u001b[1;33m.\u001b[0m\u001b[0mECHILD\u001b[0m\u001b[1;33m:\u001b[0m\u001b[1;33m\u001b[0m\u001b[0m\n",
        "\u001b[1;32m/usr/lib/python2.7/subprocess.pyc\u001b[0m in \u001b[0;36m_eintr_retry_call\u001b[1;34m(func, *args)\u001b[0m\n\u001b[0;32m    474\u001b[0m     \u001b[1;32mwhile\u001b[0m \u001b[0mTrue\u001b[0m\u001b[1;33m:\u001b[0m\u001b[1;33m\u001b[0m\u001b[0m\n\u001b[0;32m    475\u001b[0m         \u001b[1;32mtry\u001b[0m\u001b[1;33m:\u001b[0m\u001b[1;33m\u001b[0m\u001b[0m\n\u001b[1;32m--> 476\u001b[1;33m             \u001b[1;32mreturn\u001b[0m \u001b[0mfunc\u001b[0m\u001b[1;33m(\u001b[0m\u001b[1;33m*\u001b[0m\u001b[0margs\u001b[0m\u001b[1;33m)\u001b[0m\u001b[1;33m\u001b[0m\u001b[0m\n\u001b[0m\u001b[0;32m    477\u001b[0m         \u001b[1;32mexcept\u001b[0m \u001b[1;33m(\u001b[0m\u001b[0mOSError\u001b[0m\u001b[1;33m,\u001b[0m \u001b[0mIOError\u001b[0m\u001b[1;33m)\u001b[0m \u001b[1;32mas\u001b[0m \u001b[0me\u001b[0m\u001b[1;33m:\u001b[0m\u001b[1;33m\u001b[0m\u001b[0m\n\u001b[0;32m    478\u001b[0m             \u001b[1;32mif\u001b[0m \u001b[0me\u001b[0m\u001b[1;33m.\u001b[0m\u001b[0merrno\u001b[0m \u001b[1;33m==\u001b[0m \u001b[0merrno\u001b[0m\u001b[1;33m.\u001b[0m\u001b[0mEINTR\u001b[0m\u001b[1;33m:\u001b[0m\u001b[1;33m\u001b[0m\u001b[0m\n",
        "\u001b[1;31mKeyboardInterrupt\u001b[0m: "
       ]
      }
     ],
     "prompt_number": 27
    },
    {
     "cell_type": "code",
     "collapsed": true,
     "input": [],
     "language": "python",
     "metadata": {},
     "outputs": []
    }
   ],
   "metadata": {}
  }
 ]
}